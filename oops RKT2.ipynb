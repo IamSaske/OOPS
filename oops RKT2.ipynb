{
 "cells": [
  {
   "cell_type": "markdown",
   "id": "860a43b0",
   "metadata": {},
   "source": [
    "## Classmethods"
   ]
  },
  {
   "cell_type": "markdown",
   "id": "56f72cbc",
   "metadata": {},
   "source": [
    ">classmethod doesn't require self(object name)\n",
    "\n",
    "> Classmethods are use for two purposes\n",
    "\n",
    ">1.As a decorator\n",
    "\n",
    ">2.As an alternative constructor\n",
    "\n",
    ">Most of the time we use it as an alternative constructor"
   ]
  },
  {
   "cell_type": "markdown",
   "id": "ac2c4d4c",
   "metadata": {},
   "source": [
    "### Using classmethod as decorator"
   ]
  },
  {
   "cell_type": "code",
   "execution_count": 1,
   "id": "fa7d50af",
   "metadata": {},
   "outputs": [
    {
     "name": "stdout",
     "output_type": "stream",
     "text": [
      "890\n",
      "890\n",
      "1034\n"
     ]
    }
   ],
   "source": [
    "# Another way to change class variables\n",
    "class konoha:\n",
    "    no_guards=890\n",
    "    @classmethod\n",
    "    def change_guards(cls,new_guards):\n",
    "        cls.no_guards=new_guards\n",
    "class mist:\n",
    "    no_of_guards=345\n",
    "    @classmethod\n",
    "    def change_guards(cls, new_guards):\n",
    "        cls.no_guards = new_guards\n",
    "\n",
    "saske=konoha()\n",
    "churo=mist()\n",
    "\n",
    "print(konoha.no_guards)\n",
    "print(saske.no_guards)\n",
    "konoha.change_guards(1034)\n",
    "saske.change_guards(1034)\n",
    "print(saske.no_guards)"
   ]
  },
  {
   "cell_type": "code",
   "execution_count": 10,
   "id": "e653bd4f",
   "metadata": {},
   "outputs": [],
   "source": [
    "# Question:What if I pass an input in different formats \n",
    "    \n",
    "class employee:\n",
    "    def __init__(self,name1,jutsu1):\n",
    "        self.name=name1\n",
    "        self.jutsu=jutsu1\n",
    "        \n",
    "saske=employee('saske-genjutsu')\n"
   ]
  },
  {
   "cell_type": "markdown",
   "id": "3781b22b",
   "metadata": {},
   "source": [
    "### Using classmethod as an alternative constructor"
   ]
  },
  {
   "cell_type": "code",
   "execution_count": 11,
   "id": "a5747ff6",
   "metadata": {},
   "outputs": [
    {
     "name": "stdout",
     "output_type": "stream",
     "text": [
      "Saske\n",
      "Genjutsu\n"
     ]
    }
   ],
   "source": [
    "class employee:\n",
    "    def __init__(self,name1,jutsu1):\n",
    "        self.name=name1\n",
    "        self.jutsu=jutsu1\n",
    "\n",
    "    @classmethod\n",
    "    def emp(cls,string):\n",
    "        return cls(*string.split('-'))\n",
    "#         l=(String.split('-'))\n",
    "#         return (l[0],l[1]) *string.split('-') interprets like this\n",
    "\n",
    "\n",
    "\n",
    "\n",
    "saske=employee.emp('Saske-Genjutsu')\n",
    "print(saske.name)\n",
    "print(saske.jutsu)"
   ]
  },
  {
   "cell_type": "code",
   "execution_count": 6,
   "id": "633ba524",
   "metadata": {},
   "outputs": [
    {
     "name": "stdout",
     "output_type": "stream",
     "text": [
      "Saske\n",
      "Genjutsu\n"
     ]
    }
   ],
   "source": [
    "class employee:\n",
    "    def __init__(self,name1,jutsu1):\n",
    "        self.name=name1\n",
    "        self.jutsu=jutsu1\n",
    "\n",
    "    @classmethod\n",
    "    def emp(cls,string):\n",
    "        return cls(*string.split(','))\n",
    "#         l=(String.split(','))\n",
    "#         return (l[0],l[1]) *string.split(',') interprets like this\n",
    "\n",
    "\n",
    "\n",
    "\n",
    "saske=employee.emp('Saske,Genjutsu')\n",
    "print(saske.name)\n",
    "print(saske.jutsu)"
   ]
  },
  {
   "cell_type": "code",
   "execution_count": null,
   "id": "ed0bcfdc",
   "metadata": {},
   "outputs": [],
   "source": [
    "# Python program to demonstrate\n",
    "# use of a class method and static method.\n",
    "from datetime import date\n",
    "\n",
    "class Person:\n",
    "\tdef __init__(self, name, age):\n",
    "\t\tself.name = name\n",
    "\t\tself.age = age\n",
    "\t\n",
    "\t# a class method to create a\n",
    "\t# Person object by birth year.\n",
    "\t@classmethod\n",
    "\tdef fromBirthYear(cls, name, year):\n",
    "\t\treturn cls(name, date.today().year - year)\n",
    "\t\n",
    "\t# a static method to check if a\n",
    "\t# Person is adult or not.\n",
    "\t@staticmethod\n",
    "\tdef isAdult(age):\n",
    "\t\treturn age > 18\n",
    "\n",
    "person1 = Person('mayank', 21)\n",
    "person2 = Person.fromBirthYear('mayank', 1996)\n",
    "\n",
    "print (person1.age)\n",
    "print (person2.age)\n",
    "\n",
    "# print the result\n",
    "print (Person.isAdult(22))\n"
   ]
  },
  {
   "cell_type": "markdown",
   "id": "9061657b",
   "metadata": {},
   "source": [
    "# Staticmethod"
   ]
  },
  {
   "cell_type": "markdown",
   "id": "edb02910",
   "metadata": {},
   "source": [
    ">there might be scenarios where you don't want to pass class and object name's\n",
    "\n",
    "> a static method is bound to a class rather than the objects for that class. \n",
    "This means that a static method can be called without an object for that class.\n",
    "\n",
    "> we can call staticmethod without passing class or objects"
   ]
  },
  {
   "cell_type": "code",
   "execution_count": 13,
   "id": "0d8fa4a6",
   "metadata": {},
   "outputs": [
    {
     "name": "stdout",
     "output_type": "stream",
     "text": [
      "I'm good\n",
      "I'm good\n"
     ]
    }
   ],
   "source": [
    "class employee:\n",
    "    def __init__(self,name1,jutsu1):\n",
    "        self.name=name1\n",
    "        self.jutsu=jutsu1\n",
    "\n",
    "    @classmethod\n",
    "    def emp(cls,string):\n",
    "        return cls\n",
    "\n",
    "    @staticmethod\n",
    "    def prt():\n",
    "        print(\"I'm good\")\n",
    "\n",
    "\n",
    "\n",
    "saske=employee('saske','genjutsu')\n",
    "saske.prt()\n",
    "employee.prt()"
   ]
  },
  {
   "cell_type": "code",
   "execution_count": null,
   "id": "1121ee8b",
   "metadata": {},
   "outputs": [],
   "source": [
    "# Python program to \n",
    "# demonstrate static methods\n",
    "  \n",
    "class Maths():\n",
    "      \n",
    "    @staticmethod\n",
    "    def addNum(num1, num2):\n",
    "        return num1 + num2\n",
    "          \n",
    "# Driver's code\n",
    "if __name__ == \"__main__\":\n",
    "      \n",
    "    # Calling method of class\n",
    "    # without creating instance\n",
    "    res = Maths.addNum(1, 2)\n",
    "    print(\"The result is\", res)"
   ]
  },
  {
   "cell_type": "code",
   "execution_count": 7,
   "id": "c3700e5e",
   "metadata": {},
   "outputs": [
    {
     "name": "stdout",
     "output_type": "stream",
     "text": [
      "Is person adult: False\n",
      "\n",
      "Is person adult: True\n"
     ]
    }
   ],
   "source": [
    "\n",
    "# Python program to\n",
    "# demonstrate static methods\n",
    "  \n",
    "class Person: \n",
    "    def __init__(self, name, age): \n",
    "        self.name = name \n",
    "        self.age = age \n",
    "        \n",
    "    # a static method to check if a Person is adult or not. \n",
    "    @staticmethod\n",
    "    def isAdult(age): \n",
    "        return age > 18\n",
    "          \n",
    "# Driver's code\n",
    "if __name__ == \"__main__\":\n",
    "    res = Person.isAdult(12)\n",
    "    print('Is person adult:', res)\n",
    "      \n",
    "    res = Person.isAdult(22)\n",
    "    print('\\nIs person adult:', res)"
   ]
  },
  {
   "cell_type": "markdown",
   "id": "9e80f4fb",
   "metadata": {},
   "source": [
    "## Abstraction & Encapsulation"
   ]
  },
  {
   "cell_type": "markdown",
   "id": "712796e6",
   "metadata": {},
   "source": [
    ">Abstraction - splitting your work into different parts\n",
    "\n",
    ">Encapsulation- Hiding the implementation part and just showing the output\n",
    "\n",
    ">For example.\n",
    "\n",
    ">a computer have lots of separate parts mouse,keyboard etc that's abstaction\n",
    "\n",
    ">If we take example of mouse, a normal user only knows for what purpose mouse is use. He don't want to know about \n",
    "sensors and other stuffs inside. That means he only intested in usage not parts implementation.\n",
    "\n",
    ">That's what encapsulation means, we hide implementation part and just show usage\n",
    "\n",
    ">In programming language, encapsulation means when we are giving a class to other coder he just knows what the class and it's \n",
    "function returns. He don't want to know how it is working, he just want results"
   ]
  },
  {
   "cell_type": "code",
   "execution_count": null,
   "id": "ee0f9b6c",
   "metadata": {},
   "outputs": [],
   "source": []
  }
 ],
 "metadata": {
  "kernelspec": {
   "display_name": "Python 3",
   "language": "python",
   "name": "python3"
  },
  "language_info": {
   "codemirror_mode": {
    "name": "ipython",
    "version": 3
   },
   "file_extension": ".py",
   "mimetype": "text/x-python",
   "name": "python",
   "nbconvert_exporter": "python",
   "pygments_lexer": "ipython3",
   "version": "3.9.5"
  }
 },
 "nbformat": 4,
 "nbformat_minor": 5
}
