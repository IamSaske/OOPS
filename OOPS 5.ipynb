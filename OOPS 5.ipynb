{
 "cells": [
  {
   "cell_type": "code",
   "execution_count": null,
   "id": "1b01b8ce",
   "metadata": {},
   "outputs": [],
   "source": [
    "## Table of contents\n",
    "\n",
    "### 1. Operator Overloading and dunder methods\n",
    "### 2. Abstract base class and abstractmethod\n",
    "### 3. Property decorator\n",
    "### 4. Setters\n",
    "### 5.Object Introspection\n"
   ]
  },
  {
   "cell_type": "markdown",
   "id": "e9bd2ba8",
   "metadata": {},
   "source": [
    "### Special methods\n",
    "\n",
    ">Anything start with _ and ends with _ call a special methods or dunder methods"
   ]
  },
  {
   "cell_type": "code",
   "execution_count": null,
   "id": "3eac1ed7",
   "metadata": {},
   "outputs": [],
   "source": [
    "# Python program to show use of\n",
    "# + operator for different purposes.\n",
    "\n",
    "print(1 + 2)\n",
    "\n",
    "# concatenate two strings\n",
    "print(\"Saske\"+\"Uchiha\")\n",
    "\n",
    "# Product two numbers\n",
    "print(3 * 4)\n",
    "\n",
    "# Repeat the String\n",
    "print(\"Saske\"*4)\n"
   ]
  },
  {
   "cell_type": "markdown",
   "id": "fcd5eb48",
   "metadata": {},
   "source": [
    "##### This program gonna give an error as python will not understand what to do with it"
   ]
  },
  {
   "cell_type": "code",
   "execution_count": null,
   "id": "0e0e61a2",
   "metadata": {},
   "outputs": [],
   "source": [
    "class Employee:\n",
    "\tdef __init__(self,name,salary):\n",
    "\t\tself.name=name\n",
    "\t\tself.salary=salary\n",
    "\n",
    "\tdef display(self):\n",
    "\t\treturn f\"The name is {self.name} and salary is {self.salary}\"\n",
    "\n",
    "emp1=Employee('saske',233)\n",
    "emp2=Employee('naruto',758)\n",
    "\n",
    "print(emp1+emp2)"
   ]
  },
  {
   "cell_type": "markdown",
   "id": "b454ecbf",
   "metadata": {},
   "source": [
    "#### To solve this we gonna overload + operator with dunder method"
   ]
  },
  {
   "cell_type": "code",
   "execution_count": 1,
   "id": "f4ab090c",
   "metadata": {},
   "outputs": [
    {
     "name": "stdout",
     "output_type": "stream",
     "text": [
      "3\n",
      "saskeUchiha\n"
     ]
    }
   ],
   "source": [
    "# Python Program illustrate how\n",
    "# to overload an binary + operator\n",
    "\n",
    "class A:\n",
    "\tdef __init__(self, a):\n",
    "\t\tself.a = a\n",
    "\n",
    "\t# adding two objects\n",
    "\tdef __add__(self, ob):\n",
    "\t\treturn self.a + ob.a\n",
    "ob1 = A(1)\n",
    "ob2 = A(2)\n",
    "ob3 = A(\"saske\")\n",
    "ob4 = A(\"Uchiha\")\n",
    "\n",
    "print(ob1 + ob2)\n",
    "print(ob3 + ob4)\n"
   ]
  },
  {
   "cell_type": "code",
   "execution_count": null,
   "id": "9ce091c9",
   "metadata": {},
   "outputs": [],
   "source": [
    "# Python Program to perform addition\n",
    "# of two complex numbers using binary\n",
    "# + operator overloading.\n",
    "\n",
    "class complex:\n",
    "\tdef __init__(self, a, b):\n",
    "\t\tself.a = a\n",
    "\t\tself.b = b\n",
    "\n",
    "\t# adding two objects\n",
    "\tdef __add__(self, other):\n",
    "\t\treturn self.a + other.a, self.b + other.b\n",
    "\n",
    "Ob1 = complex(1, 2)\n",
    "Ob2 = complex(2, 3)\n",
    "Ob3 = Ob1 + Ob2\n",
    "print(Ob3)\n"
   ]
  },
  {
   "cell_type": "markdown",
   "id": "fb983f2c",
   "metadata": {},
   "source": [
    "### Overloading comparison operators in python"
   ]
  },
  {
   "cell_type": "code",
   "execution_count": 3,
   "id": "cb1e43f9",
   "metadata": {},
   "outputs": [
    {
     "name": "stdout",
     "output_type": "stream",
     "text": [
      "ob2 is greater than ob1\n"
     ]
    }
   ],
   "source": [
    "# Python program to overload\n",
    "# a comparison operators\n",
    "\n",
    "class A:\n",
    "\tdef __init__(self, a):\n",
    "\t\tself.a = a\n",
    "\tdef __gt__(self, other):\n",
    "\t\tif(self.a>other.a):\n",
    "\t\t\treturn True\n",
    "\t\telse:\n",
    "\t\t\treturn False\n",
    "ob1 = A(2)\n",
    "ob2 = A(3)\n",
    "if(ob1>ob2):\n",
    "\tprint(\"ob1 is greater than ob2\")\n",
    "else:\n",
    "\tprint(\"ob2 is greater than ob1\")\n"
   ]
  },
  {
   "cell_type": "markdown",
   "id": "fb0b2eed",
   "metadata": {},
   "source": [
    "### Overloading equality and less than operators"
   ]
  },
  {
   "cell_type": "code",
   "execution_count": 2,
   "id": "dc036097",
   "metadata": {},
   "outputs": [
    {
     "name": "stdout",
     "output_type": "stream",
     "text": [
      "ob1 is lessthan ob2\n",
      "Not equal\n"
     ]
    }
   ],
   "source": [
    "# Python program to overload equality\n",
    "# and less than operators\n",
    "\n",
    "class A:\n",
    "\tdef __init__(self, a):\n",
    "\t\tself.a = a\n",
    "\tdef __lt__(self, other):\n",
    "\t\tif(self.a<other.a):\n",
    "\t\t\treturn \"ob1 is lessthan ob2\"\n",
    "\t\telse:\n",
    "\t\t\treturn \"ob2 is less than ob1\"\n",
    "\tdef __eq__(self, other):\n",
    "\t\tif(self.a == other.a):\n",
    "\t\t\treturn \"Both are equal\"\n",
    "\t\telse:\n",
    "\t\t\treturn \"Not equal\"\n",
    "\t\t\t\t\n",
    "ob1 = A(2)\n",
    "ob2 = A(3)\n",
    "print(ob1 < ob2)\n",
    "\n",
    "ob3 = A(4)\n",
    "ob4 = A(4)\n",
    "print(ob1 == ob2)\n"
   ]
  },
  {
   "cell_type": "markdown",
   "id": "f13c0817",
   "metadata": {},
   "source": [
    "### Methods for overloading binary operators"
   ]
  },
  {
   "cell_type": "markdown",
   "id": "0b1b95e1",
   "metadata": {},
   "source": [
    "> Addition\t__add__(self, other)\n",
    "\n",
    ">–\t__sub__(self, other)\n",
    "\n",
    ">Mutliplication\t__mul__(self, other)\n",
    "\n",
    ">/\t__truediv__(self, other)\n",
    "\n",
    ">//\t__floordiv__(self, other)\n",
    "\n",
    ">%\t__mod__(self, other)\n",
    "\n",
    ">**\t__pow__(self, other)\n",
    "\n",
    ">&\t__and__(self, other)\n",
    "\n",
    ">|\t__or__(self, other)\n",
    "\n",
    ">^\t__xor__(self, other)"
   ]
  },
  {
   "cell_type": "markdown",
   "id": "e2b52e4d",
   "metadata": {},
   "source": [
    "### Comparison Operators\n",
    "\n",
    "> lessthan= __LT__(SELF, OTHER)\n",
    "\n",
    ">greaterthan=\t__GT__(SELF, OTHER)\n",
    "\n",
    "> lessthanequalto=\t__LE__(SELF, OTHER)\n",
    "\n",
    "> greaterthanequalto=\t__GE__(SELF, OTHER)\n",
    "\n",
    "> equalto=\t__EQ__(SELF, OTHER)\n",
    "\n",
    "> Notequalto=\t__NE__(SELF, OTHER)"
   ]
  },
  {
   "cell_type": "markdown",
   "id": "5ecd1f64",
   "metadata": {},
   "source": [
    "> A link to checkout all methods-\n",
    "docs.python.org/3/library/operator.html"
   ]
  },
  {
   "cell_type": "markdown",
   "id": "faa3d471",
   "metadata": {},
   "source": [
    "### Abstract base class and @abstractmethod"
   ]
  },
  {
   "cell_type": "markdown",
   "id": "a31d7623",
   "metadata": {},
   "source": [
    "> Abstractmethods are used you want the classes which will inherit from base class must have certain functions\n",
    "\n",
    "> Create your base class and add function in it which you want to impose\n",
    "\n",
    ">You can't create objects of base class\n",
    "\n"
   ]
  },
  {
   "cell_type": "markdown",
   "id": "805c3d9b",
   "metadata": {},
   "source": [
    "#### In following example all classes which will inherit from university must have printdetails function"
   ]
  },
  {
   "cell_type": "code",
   "execution_count": 1,
   "id": "68bf2b89",
   "metadata": {},
   "outputs": [
    {
     "data": {
      "text/plain": [
       "'Name of the student is saske and pursuing major is Mechanical'"
      ]
     },
     "execution_count": 1,
     "metadata": {},
     "output_type": "execute_result"
    }
   ],
   "source": [
    "from abc import ABC,abstractmethod\n",
    "\n",
    "class university(ABC):  #Base class\n",
    "\t@abstractmethod\n",
    "\tdef printdetails(self): # Compulsory function all inherited classes must have\n",
    "\t\treturn 0\n",
    "\n",
    "class pune(university):\n",
    "\tdef __init__(self,name,major):\n",
    "\t\tself.name=name\n",
    "\t\tself.major=major\n",
    "\n",
    "\tdef printdetails(self):\n",
    "\t\treturn f'Name of the student is {self.name} and pursuing major is {self.major}'\n",
    "\n",
    "class mumbai(university):\n",
    "\tdef __init__(self,name,major):\n",
    "\t\tself.name=name\n",
    "\t\tself.major=major\n",
    "\n",
    "\tdef printdetails(self):\n",
    "\t\treturn f'Name of the student is {self.name} and pursuing major is {self.major}'\n",
    "\n",
    "saske=pune('saske','Mechanical')\n",
    "naruto=mumbai('naruto','CS')\n",
    "\n",
    "saske.printdetails()"
   ]
  },
  {
   "cell_type": "markdown",
   "id": "97bb78ab",
   "metadata": {},
   "source": [
    "## Property decorator"
   ]
  },
  {
   "cell_type": "markdown",
   "id": "419cdb5d",
   "metadata": {},
   "source": [
    "##### Question: Will email change?"
   ]
  },
  {
   "cell_type": "code",
   "execution_count": 2,
   "id": "43cf12e7",
   "metadata": {},
   "outputs": [
    {
     "name": "stdout",
     "output_type": "stream",
     "text": [
      "saske_uchiha@konoha.com\n",
      "saske_uchiha@konoha.com\n"
     ]
    }
   ],
   "source": [
    "class konoha:\n",
    "\tdef __init__(self,fname,lname):\n",
    "\t\tself.fname=fname\n",
    "\t\tself.lname=lname\n",
    "\t\tself.email=f'{self.fname}_{self.lname}@konoha.com'\n",
    "\n",
    "\tdef details(self):\n",
    "\t\treturn self.email\n",
    "\n",
    "saske=konoha('saske','uchiha')\n",
    "print(saske.email)\n",
    "saske.fname='Rogue_saske'\n",
    "print(saske.details())"
   ]
  },
  {
   "cell_type": "markdown",
   "id": "f2e94ab0",
   "metadata": {},
   "source": [
    "##### Method1- call a function"
   ]
  },
  {
   "cell_type": "code",
   "execution_count": 3,
   "id": "d2ef2091",
   "metadata": {},
   "outputs": [
    {
     "name": "stdout",
     "output_type": "stream",
     "text": [
      "saske_uchiha@konoha.com\n",
      "Rogue_saske_uchiha@konoha.com\n"
     ]
    }
   ],
   "source": [
    "class konoha:\n",
    "\tdef __init__(self,fname,lname):\n",
    "\t\tself.fname=fname\n",
    "\t\tself.lname=lname\n",
    "\t\tself.email=f'{self.fname}_{self.lname}@konoha.com'\n",
    "\n",
    "\tdef details(self):\n",
    "\t\treturn f'{self.fname}_{self.lname}@konoha.com'\n",
    "\n",
    "saske=konoha('saske','uchiha')\n",
    "print(saske.email)\n",
    "saske.fname='Rogue_saske'\n",
    "print(saske.details())"
   ]
  },
  {
   "cell_type": "markdown",
   "id": "84ee395d",
   "metadata": {},
   "source": [
    "##### Method2- make decorator and pass function as variable"
   ]
  },
  {
   "cell_type": "code",
   "execution_count": 5,
   "id": "92d7615e",
   "metadata": {},
   "outputs": [
    {
     "name": "stdout",
     "output_type": "stream",
     "text": [
      "saske_uchiha@konoha.com\n",
      "Rogue_saske_uchiha@konoha.com\n"
     ]
    }
   ],
   "source": [
    "class konoha:\n",
    "\tdef __init__(self,fname,lname):\n",
    "\t\tself.fname=fname\n",
    "\t\tself.lname=lname\n",
    "\t\tself.email=f'{self.fname}_{self.lname}@konoha.com'\n",
    "\n",
    "\t@property\n",
    "\tdef details(self):\n",
    "\t\treturn f'{self.fname}_{self.lname}@konoha.com'\n",
    "\n",
    "\n",
    "\n",
    "saske=konoha('saske','uchiha')\n",
    "print(saske.email)\n",
    "saske.fname='Rogue_saske'\n",
    "print(saske.details)   #Remember here if you try to call details() it will give you error"
   ]
  },
  {
   "cell_type": "markdown",
   "id": "15b91a51",
   "metadata": {},
   "source": [
    "### Now let's say we want to set fname and lname from input to details but we cannot directly do that "
   ]
  },
  {
   "cell_type": "code",
   "execution_count": 4,
   "id": "b48573a9",
   "metadata": {},
   "outputs": [
    {
     "ename": "AttributeError",
     "evalue": "can't set attribute",
     "output_type": "error",
     "traceback": [
      "\u001b[1;31m---------------------------------------------------------------------------\u001b[0m",
      "\u001b[1;31mAttributeError\u001b[0m                            Traceback (most recent call last)",
      "\u001b[1;32m<ipython-input-4-499af84b41cd>\u001b[0m in \u001b[0;36m<module>\u001b[1;34m\u001b[0m\n\u001b[0;32m     12\u001b[0m \u001b[1;33m\u001b[0m\u001b[0m\n\u001b[0;32m     13\u001b[0m \u001b[0msaske\u001b[0m\u001b[1;33m=\u001b[0m\u001b[0mkonoha\u001b[0m\u001b[1;33m(\u001b[0m\u001b[1;34m'saske'\u001b[0m\u001b[1;33m,\u001b[0m\u001b[1;34m'uchiha'\u001b[0m\u001b[1;33m)\u001b[0m\u001b[1;33m\u001b[0m\u001b[1;33m\u001b[0m\u001b[0m\n\u001b[1;32m---> 14\u001b[1;33m \u001b[0msaske\u001b[0m\u001b[1;33m.\u001b[0m\u001b[0mdetails\u001b[0m\u001b[1;33m=\u001b[0m\u001b[1;34m'good-saske_uchiha@konoha.com'\u001b[0m\u001b[1;33m\u001b[0m\u001b[1;33m\u001b[0m\u001b[0m\n\u001b[0m",
      "\u001b[1;31mAttributeError\u001b[0m: can't set attribute"
     ]
    }
   ],
   "source": [
    "class konoha:\n",
    "\tdef __init__(self,fname,lname):\n",
    "\t\tself.fname=fname\n",
    "\t\tself.lname=lname\n",
    "\t\tself.email=f'{self.fname}_{self.lname}@konoha.com'\n",
    "\n",
    "\t@property\n",
    "\tdef details(self):\n",
    "\t\treturn f'{self.fname}_{self.lname}@konoha.com'\n",
    "\n",
    "\n",
    "\n",
    "saske=konoha('saske','uchiha')\n",
    "saske.details='good-saske_uchiha@konoha.com'"
   ]
  },
  {
   "cell_type": "markdown",
   "id": "4887d273",
   "metadata": {},
   "source": [
    "### Setters\n",
    "\n",
    ">it can be used to take input from property\n",
    "\n",
    ">Keep in mind setters can only set the property attributes"
   ]
  },
  {
   "cell_type": "code",
   "execution_count": 6,
   "id": "54df6b76",
   "metadata": {},
   "outputs": [
    {
     "name": "stdout",
     "output_type": "stream",
     "text": [
      "Rogue_saske_uchiha@konoha.com\n",
      "good-saske\n",
      "uchiha\n"
     ]
    }
   ],
   "source": [
    "class konoha:\n",
    "\tdef __init__(self,fname,lname):\n",
    "\t\tself.fname=fname\n",
    "\t\tself.lname=lname\n",
    "\n",
    "\t@property\n",
    "\tdef details(self):\n",
    "\t\treturn f'{self.fname}_{self.lname}@konoha.com'\n",
    "\n",
    "\t@details.setter\n",
    "\tdef details(self,string):\n",
    "\t\tnames=string.split(\"@\")[0]\n",
    "\t\tself.fname=names.split(\"_\")[0]\n",
    "\t\tself.lname=names.split(\"_\")[1]\n",
    "\n",
    "\n",
    "\n",
    "saske=konoha('saske','uchiha')\n",
    "\n",
    "saske.fname='Rogue_saske'\n",
    "print(saske.details)\n",
    "saske.details=\"good-saske_uchiha@konoha.com\"\n",
    "print(saske.fname)\n",
    "print(saske.lname)"
   ]
  },
  {
   "cell_type": "markdown",
   "id": "b79c5751",
   "metadata": {},
   "source": [
    "## Object Introspection"
   ]
  },
  {
   "cell_type": "markdown",
   "id": "42bec3cd",
   "metadata": {},
   "source": [
    ">Object introspection means getting know about objects made for particular class\n",
    "\n",
    ">Some of the methods use for that--type,id,dir,inspect module"
   ]
  },
  {
   "cell_type": "code",
   "execution_count": null,
   "id": "c5b32a33",
   "metadata": {},
   "outputs": [],
   "source": [
    "class A:\n",
    "\tdef __init__(self):\n",
    "\t\tself.game=4\n",
    "\n",
    "\tdef display(self):\n",
    "\t\tprint(self.game)\n",
    "\n",
    "class B:\n",
    "\tdef __init__(self):\n",
    "\t\tself.sports=6\n",
    "\n",
    "\tdef prt(self):\n",
    "\t\tprint(self.sports)\n",
    "\n",
    "c=A()\n",
    "d=B()\n",
    "print(type(c))\n",
    "print(id(c))\n",
    "print(dir(c))\n",
    "\n",
    "import inspect\n",
    "print(inspect.getmembers(c))\n",
    "print(type(d))"
   ]
  }
 ],
 "metadata": {
  "kernelspec": {
   "display_name": "Python 3",
   "language": "python",
   "name": "python3"
  },
  "language_info": {
   "codemirror_mode": {
    "name": "ipython",
    "version": 3
   },
   "file_extension": ".py",
   "mimetype": "text/x-python",
   "name": "python",
   "nbconvert_exporter": "python",
   "pygments_lexer": "ipython3",
   "version": "3.9.5"
  }
 },
 "nbformat": 4,
 "nbformat_minor": 5
}
