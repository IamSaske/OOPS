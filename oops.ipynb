{
 "cells": [
  {
   "cell_type": "markdown",
   "id": "aedb64af",
   "metadata": {},
   "source": [
    "# OOPS\n",
    "\n",
    "> It is just a way to write program more readable\n",
    "\n",
    ">It runs on the concept of DRY-do not repeat itself"
   ]
  },
  {
   "cell_type": "markdown",
   "id": "7294e1e3",
   "metadata": {},
   "source": [
    "## Decorators\n",
    "\n",
    "> Before learning decorators we need to be cleared on some concepts\n"
   ]
  },
  {
   "cell_type": "markdown",
   "id": "53b51b16",
   "metadata": {},
   "source": [
    "#### Storing function in variable\n",
    "\n"
   ]
  },
  {
   "cell_type": "code",
   "execution_count": 14,
   "id": "a1c0b5f6",
   "metadata": {},
   "outputs": [],
   "source": [
    "def func():\n",
    "    print(\"I'm a function\")\n",
    "    \n",
    "a=func()\n",
    "print(a)"
   ]
  },
  {
   "cell_type": "markdown",
   "id": "c981f6e3",
   "metadata": {},
   "source": [
    "#### Passing function as an argument\n"
   ]
  },
  {
   "cell_type": "code",
   "execution_count": 16,
   "id": "80ab1377",
   "metadata": {},
   "outputs": [],
   "source": [
    "def func1(text):\n",
    "    return text.upper()\n",
    "\n",
    "def func2(function):\n",
    "    var=function('saske') # Here we have stored a function in var and at same time we are passing saske to func1\n",
    "    print(var)\n",
    "    \n",
    "func2(func1) # we are passing func1 as an argument to func2"
   ]
  },
  {
   "cell_type": "markdown",
   "id": "938fdf59",
   "metadata": {},
   "source": [
    "#### Returning function from another function"
   ]
  },
  {
   "cell_type": "code",
   "execution_count": 66,
   "id": "8254c7ff",
   "metadata": {},
   "outputs": [
    {
     "name": "stdout",
     "output_type": "stream",
     "text": [
      "Inside the method A.\n",
      "Inside the method B.\n"
     ]
    }
   ],
   "source": [
    "def B():\n",
    "    print(\"Inside the method B.\")\n",
    "     \n",
    "# first method that return second method\n",
    "def A():\n",
    "    print(\"Inside the method A.\")\n",
    "     \n",
    "    # return second method\n",
    "    return B\n",
    " \n",
    "# form a object of first method\n",
    "# i.e; second method\n",
    "returned_function = A()\n",
    " \n",
    "# call second method by first method\n",
    "returned_function() "
   ]
  },
  {
   "cell_type": "code",
   "execution_count": 4,
   "id": "7a519564",
   "metadata": {},
   "outputs": [
    {
     "name": "stdout",
     "output_type": "stream",
     "text": [
      "Hello and Good Morning.\n"
     ]
    }
   ],
   "source": [
    "\n",
    "# define two methods\n",
    " \n",
    "# second method that will be returned\n",
    "# by first method\n",
    "def B(st2):\n",
    "    print(\"Good \" + st2 + \".\")\n",
    "     \n",
    "# first method that return second method\n",
    "def A(st1, st2):\n",
    "    print(st1 + \" and \", end = \"\")\n",
    "     \n",
    "    # return second method\n",
    "    return B(st2)\n",
    " \n",
    "# call first method that do two work:\n",
    "# 1. execute the body of first method, and\n",
    "# 2. execute the body of second method as\n",
    "#    first method return the second method\n",
    "A(\"Hello\", \"Morning\")"
   ]
  },
  {
   "cell_type": "code",
   "execution_count": 5,
   "id": "cd96075a",
   "metadata": {},
   "outputs": [
    {
     "name": "stdout",
     "output_type": "stream",
     "text": [
      "<function A.<locals>.<lambda> at 0x000002B73D0579D0>\n",
      "21\n"
     ]
    }
   ],
   "source": [
    "# first method that return second method\n",
    "def A(u, v):\n",
    "    w = u + v\n",
    "    z = u - v\n",
    "     \n",
    "    # return second method without name\n",
    "    return lambda: print(w * z)\n",
    " \n",
    "# form a object of first method\n",
    "# i.e; second method\n",
    "returned_function = A(5, 2)\n",
    " \n",
    "# check object\n",
    "print(returned_function)\n",
    " \n",
    "# call second method by first method\n",
    "returned_function()"
   ]
  },
  {
   "cell_type": "markdown",
   "id": "7cc1e021",
   "metadata": {},
   "source": [
    "### Decorators definition\n",
    "\n",
    ">Decorators are very powerful and useful tool in Python\n",
    "\n",
    ">since it allows programmers to modify the behavior of function or class. Decorators allow us to wrap another function\n",
    "\n",
    ">in order to extend the behavior of the wrapped function, without permanently modifying it"
   ]
  },
  {
   "cell_type": "code",
   "execution_count": 22,
   "id": "e833eb8b",
   "metadata": {},
   "outputs": [
    {
     "name": "stdout",
     "output_type": "stream",
     "text": [
      "Hello, this is before function execution\n",
      "This is inside the function !!\n",
      "This is after function execution\n"
     ]
    }
   ],
   "source": [
    "# defining a decorator\n",
    "def hello_decorator(func):\n",
    "\n",
    "\t# inner1 is a Wrapper function in\n",
    "\t# which the argument is called\n",
    "\t\n",
    "\t# inner function can access the outer local\n",
    "\t# functions like in this case \"func\"\n",
    "\tdef inner1():\n",
    "\t\tprint(\"Hello, this is before function execution\")\n",
    "\n",
    "\t\t# calling the actual function now\n",
    "\t\t# inside the wrapper function.\n",
    "\t\tfunc()\n",
    "\n",
    "\t\tprint(\"This is after function execution\")\n",
    "\t\t\n",
    "\treturn inner1\n",
    "\n",
    "\n",
    "# defining a function, to be called inside wrapper\n",
    "def function_to_be_used():\n",
    "\tprint(\"This is inside the function !!\")\n",
    "\n",
    "\n",
    "# passing 'function_to_be_used' inside the\n",
    "# decorator to control its behavior\n",
    "function_to_be_used = hello_decorator(function_to_be_used)\n",
    "\n",
    "\n",
    "# calling the function\n",
    "function_to_be_used()\n",
    "\n",
    "\n",
    "\n",
    "\n"
   ]
  },
  {
   "cell_type": "markdown",
   "id": "dd5f4653",
   "metadata": {},
   "source": [
    "#### IN SIMPLE WORDS\n",
    "\n",
    ">This is like a coding question where print 3 outputs but by only calling another function containing only 1 output\n",
    "\n",
    ">That's what extending function behaviour without modifying it  means"
   ]
  },
  {
   "cell_type": "markdown",
   "id": "f73ef65d",
   "metadata": {},
   "source": [
    "### Ye samajhlo decorator ek dabba hai,jisme ek wrapper hai and hum usme ek function ko wrap kar rahe hai,taki uska behaviour extend kar sake without usko modify kiye"
   ]
  },
  {
   "cell_type": "code",
   "execution_count": 17,
   "id": "af100e17",
   "metadata": {},
   "outputs": [
    {
     "name": "stdout",
     "output_type": "stream",
     "text": [
      "before execution\n",
      "this is inside function\n",
      "after execution\n"
     ]
    }
   ],
   "source": [
    "# Another way to get above output\n",
    "def inner():\n",
    "    print('before execution')\n",
    "    another()\n",
    "    print('after execution')\n",
    "    \n",
    "def another():\n",
    "    print('this is inside function')\n",
    "    \n",
    "inner()\n",
    "\n",
    "# bhaisahab but inner ko call nahi karna hai, hume another ko call karke ye output chahiye"
   ]
  },
  {
   "cell_type": "code",
   "execution_count": 3,
   "id": "7c7573aa",
   "metadata": {},
   "outputs": [
    {
     "name": "stdout",
     "output_type": "stream",
     "text": [
      "100\n"
     ]
    }
   ],
   "source": [
    "#print 100 from function which only returns 10\n",
    "\n",
    "def decor(func):\n",
    "    def inner():\n",
    "        x=func()\n",
    "        return x*x\n",
    "    return inner\n",
    "# @decor\n",
    "def num():\n",
    "    return 10\n",
    "\n",
    "num=decor(num)\n",
    "\n",
    "print(num())"
   ]
  },
  {
   "cell_type": "markdown",
   "id": "8d17aaa2",
   "metadata": {},
   "source": [
    "### Agar abhi nahi samjha na to is line ko yaad karlo\n",
    "\n",
    "### jaise bollywood me hamare loveguru SRK ne kaha hai ki 'jakham tumhe ho to dard mujhe ho'\n",
    "\n",
    "> write simran function, give jakham to simran and print dard from raj function but just call simran function"
   ]
  },
  {
   "cell_type": "code",
   "execution_count": 5,
   "id": "fed3570c",
   "metadata": {},
   "outputs": [
    {
     "name": "stdout",
     "output_type": "stream",
     "text": [
      "Oh simran tumhe jakham hui\n",
      "Oh raj mujhe jakham hui\n",
      "Simran ko jakham hui,Par dard mujhe ho raha hai\n"
     ]
    }
   ],
   "source": [
    "def bapuji(func): #bapuji is decorator\n",
    "    def inner():\n",
    "        print('Oh simran tumhe jakham hui')\n",
    "        func()\n",
    "        print('Simran ko jakham hui,Par dard mujhe ho raha hai')\n",
    "    return inner\n",
    "\n",
    "@bapuji\n",
    "def simran():\n",
    "    print('Oh raj mujhe jakham hui')\n",
    "    \n",
    "simran()"
   ]
  },
  {
   "cell_type": "code",
   "execution_count": null,
   "id": "a01df669",
   "metadata": {},
   "outputs": [],
   "source": [
    "# code for testing decorator chaining\n",
    "def decor1(func):\n",
    "\tdef inner():\n",
    "\t\tx = func()\n",
    "\t\treturn x * x\n",
    "\treturn inner\n",
    "\n",
    "def decor(func):\n",
    "\tdef inner():\n",
    "\t\tx = func()\n",
    "\t\treturn 2 * x\n",
    "\treturn inner\n",
    "\n",
    "@decor1\n",
    "@decor #it is equivalent to decor1(decor(num))\n",
    "def num():\n",
    "\treturn 10\n",
    "\n",
    "print(num())\n"
   ]
  },
  {
   "cell_type": "markdown",
   "id": "2b0b7b17",
   "metadata": {},
   "source": [
    "## Classes\n",
    "\n",
    ">class is like a template\n",
    "    \n",
    ">Objects are use to access classes\n",
    "\n",
    ">A classes may have variables,functions,decorators,constructors\n"
   ]
  },
  {
   "cell_type": "markdown",
   "id": "853a79e0",
   "metadata": {},
   "source": [
    "## Making classes"
   ]
  },
  {
   "cell_type": "code",
   "execution_count": 4,
   "id": "00386dfa",
   "metadata": {},
   "outputs": [],
   "source": [
    "class Building:\n",
    "    \n",
    "    def parking():\n",
    "        pass\n",
    "    \n",
    "    def clubhouse():\n",
    "        pass\n",
    "    \n",
    "    def gym():\n",
    "        pass\n",
    "    \n",
    "class House:\n",
    "    pass\n",
    "\n",
    "    \n",
    "    \n",
    "    "
   ]
  },
  {
   "cell_type": "markdown",
   "id": "5e04ac61",
   "metadata": {},
   "source": [
    "## Objects\n",
    "\n",
    ">Objects are the instances of class\n",
    "\n",
    ">A single class may have lot of objects"
   ]
  },
  {
   "cell_type": "code",
   "execution_count": 10,
   "id": "99be67c4",
   "metadata": {},
   "outputs": [
    {
     "name": "stdout",
     "output_type": "stream",
     "text": [
      "parking is good here\n",
      "parking is good here\n"
     ]
    }
   ],
   "source": [
    "class Building:\n",
    "    \n",
    "    def parking(self):\n",
    "        print( 'parking is good here')\n",
    "      \n",
    "    \n",
    "    def clubhouse(self):\n",
    "        pass\n",
    "    \n",
    "    def gym(self):\n",
    "        pass\n",
    "    \n",
    "class House:\n",
    "    pass\n",
    "\n",
    "Paronoma= Building() #Paronoma is object and it's an instance of Building class\n",
    "atmosphere=Building()\n",
    "\n",
    "\n",
    "Paronoma.parking()\n",
    "atmosphere.parking()"
   ]
  },
  {
   "cell_type": "markdown",
   "id": "b124ae80",
   "metadata": {},
   "source": [
    "## Instance and Class Variables\n",
    "\n",
    "### Class Variable\n",
    "\n",
    ">Variables declared in classes\n",
    "\n"
   ]
  },
  {
   "cell_type": "code",
   "execution_count": 3,
   "id": "3ad17eaa",
   "metadata": {},
   "outputs": [
    {
     "name": "stdout",
     "output_type": "stream",
     "text": [
      "894\n"
     ]
    }
   ],
   "source": [
    "class Konoha():\n",
    "    no_of_guards=894 # class variable\n",
    "    \n",
    "saske=Konoha()\n",
    "print(saske.no_of_guards)"
   ]
  },
  {
   "cell_type": "code",
   "execution_count": 6,
   "id": "9f249819",
   "metadata": {},
   "outputs": [
    {
     "name": "stdout",
     "output_type": "stream",
     "text": [
      "23\n"
     ]
    }
   ],
   "source": [
    "class Konoha():\n",
    "    no_of_guards=894 # class variable\n",
    "    \n",
    "saske=Konoha()\n",
    "saske.no_of_guards=23 #instance variable\n",
    "print(saske.no_of_guards)"
   ]
  },
  {
   "cell_type": "code",
   "execution_count": 7,
   "id": "b93fa1e8",
   "metadata": {},
   "outputs": [
    {
     "name": "stdout",
     "output_type": "stream",
     "text": [
      "894\n",
      "894\n"
     ]
    }
   ],
   "source": [
    "class Konoha():\n",
    "    no_of_guards=894 # class variable\n",
    "    \n",
    "saske=Konoha()\n",
    "naruto=Konoha()\n",
    "print(saske.no_of_guards)\n",
    "print(naruto.no_of_guards)"
   ]
  },
  {
   "cell_type": "markdown",
   "id": "2f044045",
   "metadata": {},
   "source": [
    "## Instance variable\n",
    "\n",
    ">Any object can use class variables but not everyone can use each other's instance variables as they are personal"
   ]
  },
  {
   "cell_type": "code",
   "execution_count": 29,
   "id": "ba17124d",
   "metadata": {},
   "outputs": [
    {
     "name": "stdout",
     "output_type": "stream",
     "text": [
      "Hinata\n",
      "894\n",
      "Sakura\n"
     ]
    }
   ],
   "source": [
    "class Konoha:\n",
    "    no_of_guards=894 # class variable\n",
    "    \n",
    "saske=Konoha()\n",
    "nauto=Konoha()\n",
    "saske.gf='Sakura'\n",
    "naruto.gf='Hinata' #this is naruto's personal property not public\n",
    "print(naruto.gf)\n",
    "print(saske.no_of_guards)\n",
    "print(saske.gf)"
   ]
  },
  {
   "cell_type": "code",
   "execution_count": 40,
   "id": "3ded139f",
   "metadata": {},
   "outputs": [
    {
     "name": "stdout",
     "output_type": "stream",
     "text": [
      "345\n",
      "894\n"
     ]
    }
   ],
   "source": [
    "# You can't directly change class variables like this\n",
    "class konoha:\n",
    "    no_of_guards=894\n",
    "    \n",
    "saske=konoha()\n",
    "naruto=konoha()\n",
    "saske.no_of_guards=345\n",
    "print(saske.no_of_guards)\n",
    "print(naruto.no_of_guards)"
   ]
  },
  {
   "cell_type": "code",
   "execution_count": 37,
   "id": "728a07b3",
   "metadata": {},
   "outputs": [
    {
     "name": "stdout",
     "output_type": "stream",
     "text": [
      "990\n"
     ]
    }
   ],
   "source": [
    "# One way to change class variables\n",
    "class Konoha:\n",
    "    no_of_guards=894 # class variable\n",
    "    \n",
    "saske=Konoha()\n",
    "nauto=Konoha()\n",
    "Konoha.no_of_guards=990\n",
    "print(saske.no_of_guards)"
   ]
  },
  {
   "cell_type": "markdown",
   "id": "693de76f",
   "metadata": {},
   "source": [
    "## Self\n",
    "\n",
    ">Without passing any argument self goes as it's object name"
   ]
  },
  {
   "cell_type": "code",
   "execution_count": 43,
   "id": "3dbe16b2",
   "metadata": {},
   "outputs": [
    {
     "name": "stdout",
     "output_type": "stream",
     "text": [
      "Lowest_rank in konoha will be Genin and favourite jutsu is Genjutsu\n",
      "Lowest_rank in konoha will be Genin and favourite jutsu is Reverse Harem\n"
     ]
    }
   ],
   "source": [
    "class konoha:\n",
    "    def ninjas(self):\n",
    "        return f\"Lowest_rank in konoha will be {self.lowest_rank} and favourite jutsu is {self.favourite_jutsu}\"\n",
    "        \n",
    "saske=konoha()\n",
    "saske.lowest_rank='Genin'\n",
    "saske.favourite_jutsu='Genjutsu'\n",
    "print(saske.ninjas())\n",
    "\n",
    "naruto=konoha()\n",
    "naruto.lowest_rank='Genin'\n",
    "naruto.favourite_jutsu='Reverse Harem'\n",
    "print(naruto.ninjas())\n"
   ]
  },
  {
   "cell_type": "code",
   "execution_count": 45,
   "id": "f1bdb55d",
   "metadata": {},
   "outputs": [
    {
     "ename": "TypeError",
     "evalue": "ninjas() takes 0 positional arguments but 1 was given",
     "output_type": "error",
     "traceback": [
      "\u001b[1;31m---------------------------------------------------------------------------\u001b[0m",
      "\u001b[1;31mTypeError\u001b[0m                                 Traceback (most recent call last)",
      "\u001b[1;32m<ipython-input-45-d9cc4cf68f59>\u001b[0m in \u001b[0;36m<module>\u001b[1;34m\u001b[0m\n\u001b[0;32m      6\u001b[0m \u001b[0msaske\u001b[0m\u001b[1;33m.\u001b[0m\u001b[0mlowest_rank\u001b[0m\u001b[1;33m=\u001b[0m\u001b[1;34m'Genin'\u001b[0m\u001b[1;33m\u001b[0m\u001b[1;33m\u001b[0m\u001b[0m\n\u001b[0;32m      7\u001b[0m \u001b[0msaske\u001b[0m\u001b[1;33m.\u001b[0m\u001b[0mfavourite_jutsu\u001b[0m\u001b[1;33m=\u001b[0m\u001b[1;34m'Genjutsu'\u001b[0m\u001b[1;33m\u001b[0m\u001b[1;33m\u001b[0m\u001b[0m\n\u001b[1;32m----> 8\u001b[1;33m \u001b[0mprint\u001b[0m\u001b[1;33m(\u001b[0m\u001b[0msaske\u001b[0m\u001b[1;33m.\u001b[0m\u001b[0mninjas\u001b[0m\u001b[1;33m(\u001b[0m\u001b[1;33m)\u001b[0m\u001b[1;33m)\u001b[0m\u001b[1;33m\u001b[0m\u001b[1;33m\u001b[0m\u001b[0m\n\u001b[0m\u001b[0;32m      9\u001b[0m \u001b[1;33m\u001b[0m\u001b[0m\n",
      "\u001b[1;31mTypeError\u001b[0m: ninjas() takes 0 positional arguments but 1 was given"
     ]
    }
   ],
   "source": [
    "#self argument goes automatically\n",
    "class konoha:\n",
    "    def ninjas():\n",
    "        return f\"Lowest_rank in konoha will be {self.lowest_rank} and favourite jutsu is {self.favourite_jutsu}\"\n",
    "        \n",
    "saske=konoha()\n",
    "saske.lowest_rank='Genin'\n",
    "saske.favourite_jutsu='Genjutsu'\n",
    "print(saske.ninjas())\n",
    "\n"
   ]
  },
  {
   "cell_type": "markdown",
   "id": "4a1e4f50",
   "metadata": {},
   "source": [
    "# Constructors\n",
    "\n",
    ">constructors are use to initialize the objects\n",
    "\n",
    "## default constructors\n",
    "\n",
    ">those who don't take any arguments\n",
    "\n",
    "## Paramarized constructors\n",
    "\n",
    ">thsoe who take arguments provided"
   ]
  },
  {
   "cell_type": "code",
   "execution_count": 49,
   "id": "0ceb71e3",
   "metadata": {},
   "outputs": [
    {
     "name": "stdout",
     "output_type": "stream",
     "text": [
      "Genin\n",
      "13k\n"
     ]
    }
   ],
   "source": [
    "# default constructors\n",
    "class konoha:\n",
    "    \n",
    "    def __init__(self):\n",
    "        self.lowest_rank='Genin'\n",
    "        self.salry='13k'\n",
    "        \n",
    "    def display_rank(self):\n",
    "        print(self.lowest_rank)\n",
    "        \n",
    "    def salary(self):\n",
    "        print(self.salry)\n",
    "        \n",
    "saske=konoha()\n",
    "saske.display_rank()\n",
    "\n",
    "naruto=konoha()\n",
    "naruto.salary()\n",
    "\n"
   ]
  },
  {
   "cell_type": "code",
   "execution_count": 64,
   "id": "9be18573",
   "metadata": {},
   "outputs": [
    {
     "name": "stdout",
     "output_type": "stream",
     "text": [
      "The name is Saske, strongest jutsu is Genjutsu and rank is Dark Hokage\n",
      "Naruto\n",
      "The name is Naruto, strongest jutsu is Rasengan and rank is Light Hokage\n"
     ]
    }
   ],
   "source": [
    "# Paramarized Constructors\n",
    "\n",
    "class konoha:\n",
    "    \n",
    "    def __init__(self,name1,jutsu1,rank1):\n",
    "        self.name=name1\n",
    "        self.jutsu=jutsu1\n",
    "        self.rank=rank1\n",
    "        \n",
    "    def display(self):\n",
    "        return f'The name is {self.name}, strongest jutsu is {self.jutsu} and rank is {self.rank}'\n",
    "    \n",
    "saske=konoha('Saske','Genjutsu','Dark Hokage')\n",
    "naruto=konoha('Naruto','Rasengan','Light Hokage')\n",
    "\n",
    "print(saske.display())\n",
    "\n",
    "\n",
    "print(naruto.name)\n",
    "\n",
    "print(naruto.display())"
   ]
  }
 ],
 "metadata": {
  "kernelspec": {
   "display_name": "Python 3",
   "language": "python",
   "name": "python3"
  },
  "language_info": {
   "codemirror_mode": {
    "name": "ipython",
    "version": 3
   },
   "file_extension": ".py",
   "mimetype": "text/x-python",
   "name": "python",
   "nbconvert_exporter": "python",
   "pygments_lexer": "ipython3",
   "version": "3.9.5"
  }
 },
 "nbformat": 4,
 "nbformat_minor": 5
}
