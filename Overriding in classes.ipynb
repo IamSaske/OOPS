{
 "cells": [
  {
   "cell_type": "markdown",
   "id": "974509cd",
   "metadata": {},
   "source": [
    "## Table of contents\n",
    "\n",
    "#### 1.Revision of how class variables and constructors works\n",
    "#### 2. Method Overriding\n",
    "##### a. Multiple inheritance\n",
    "##### b. Multilevel inheritance\n",
    "#### 3. Calling parent's method\n",
    "##### a. With Classname\n",
    "##### b.With super()\n",
    "#### 4.Diamond shape problem in inheritance\n",
    "#### 5. Polymorphism"
   ]
  },
  {
   "cell_type": "markdown",
   "id": "dcc23053",
   "metadata": {},
   "source": [
    "#### Case 1"
   ]
  },
  {
   "cell_type": "markdown",
   "id": "83b74751",
   "metadata": {},
   "source": [
    "##### For following program output gonna be 7 as B's own variable is present"
   ]
  },
  {
   "cell_type": "code",
   "execution_count": 1,
   "id": "e2a2fe63",
   "metadata": {},
   "outputs": [
    {
     "name": "stdout",
     "output_type": "stream",
     "text": [
      "7\n"
     ]
    }
   ],
   "source": [
    "\n",
    "class A:\n",
    "\tno_of_games = 6\n",
    "class B(A):\n",
    "\tno_of_games = 7\n",
    "\n",
    "obj=B()\n",
    "print(obj.no_of_games)"
   ]
  },
  {
   "cell_type": "markdown",
   "id": "cb5cb2a0",
   "metadata": {},
   "source": [
    "##### Question: What will be the output ?"
   ]
  },
  {
   "cell_type": "code",
   "execution_count": 4,
   "id": "99283fe8",
   "metadata": {},
   "outputs": [],
   "source": [
    "class A:\n",
    "\tno_of_games = 6\n",
    "\n",
    "\tdef __init__(self):\n",
    "\t\tself.no_of_games = 8\n",
    "\n",
    "class B(A):\n",
    "\tno_of_games = 7\n",
    "\n",
    "obj=B()\n",
    "print(obj.no_of_games)"
   ]
  },
  {
   "cell_type": "markdown",
   "id": "333616f1",
   "metadata": {},
   "source": [
    "> It is giving 8 as\n",
    "output because even if B's own variable is present but in A's constructor no_of_games has been already initialized"
   ]
  },
  {
   "cell_type": "markdown",
   "id": "769b90ca",
   "metadata": {},
   "source": [
    "## Method Overriding\n",
    "\n",
    ">Now the output will be 7 as B has it's own constructor, This is called overriding"
   ]
  },
  {
   "cell_type": "code",
   "execution_count": 9,
   "id": "07b18a5a",
   "metadata": {},
   "outputs": [
    {
     "name": "stdout",
     "output_type": "stream",
     "text": [
      "7\n"
     ]
    }
   ],
   "source": [
    "class A:\n",
    "\tno_of_games = 6\n",
    "\n",
    "\tdef __init__(self):\n",
    "\t\tself.no_of_games = 8\n",
    "\n",
    "class B(A):\n",
    "\tdef __init__(self):\n",
    "\t\tself.no_of_games=7\n",
    "\n",
    "obj=B()\n",
    "print(obj.no_of_games)"
   ]
  },
  {
   "cell_type": "markdown",
   "id": "e62d1040",
   "metadata": {},
   "source": [
    "## Method Overriding with multiple and multilevel inheritance"
   ]
  },
  {
   "cell_type": "markdown",
   "id": "efc0e5ed",
   "metadata": {},
   "source": [
    "#### overriding in multilevel inheritance"
   ]
  },
  {
   "cell_type": "code",
   "execution_count": 8,
   "id": "872be630",
   "metadata": {},
   "outputs": [
    {
     "name": "stdout",
     "output_type": "stream",
     "text": [
      "Inside GrandChild\n",
      "Inside Parent\n"
     ]
    }
   ],
   "source": [
    "class Parent():\n",
    "\t\t\n",
    "\t# Parent's show method\n",
    "\tdef display(self):\n",
    "\t\tprint(\"Inside Parent\")\n",
    "\t\n",
    "\t\n",
    "# Inherited or Sub class (Note Parent in bracket)\n",
    "class Child(Parent):\n",
    "\t\t\n",
    "\t# Child's show method\n",
    "\tdef show(self):\n",
    "\t\tprint(\"Inside Child\")\n",
    "\t\n",
    "# Inherited or Sub class (Note Child in bracket)\n",
    "class GrandChild(Child):\n",
    "\t\t\n",
    "\t# Child's show method\n",
    "\tdef show(self):\n",
    "\t\tprint(\"Inside GrandChild\")\t\t\n",
    "\t\n",
    "# Driver code\n",
    "g = GrandChild()\n",
    "g.show()\n",
    "g.display()\n"
   ]
  },
  {
   "cell_type": "markdown",
   "id": "ef8e7d83",
   "metadata": {},
   "source": [
    "#### overriding in multiple inheritance"
   ]
  },
  {
   "cell_type": "code",
   "execution_count": 2,
   "id": "062c5f4b",
   "metadata": {},
   "outputs": [
    {
     "name": "stdout",
     "output_type": "stream",
     "text": [
      "Inside Child\n",
      "Inside Parent2\n"
     ]
    }
   ],
   "source": [
    "\n",
    "# Defining parent class 1\n",
    "class Parent1():\n",
    "\t\t\n",
    "\t# Parent's show method\n",
    "\tdef show(self):\n",
    "\t\tprint(\"Inside Parent1\")\n",
    "\t\t\n",
    "# Defining Parent class 2\n",
    "class Parent2():\n",
    "\t\t\n",
    "\t# Parent's show method\n",
    "\tdef display(self):\n",
    "\t\tprint(\"Inside Parent2\")\n",
    "\t\t\n",
    "\t\t\n",
    "# Defining child class\n",
    "class Child(Parent1, Parent2):\n",
    "\t\t\n",
    "\t# Child's show method\n",
    "\tdef show(self):\n",
    "\t\tprint(\"Inside Child\")\n",
    "\t\n",
    "\t\t\n",
    "# Driver's code\n",
    "obj = Child()\n",
    "\n",
    "obj.show()\n",
    "obj.display()\n"
   ]
  },
  {
   "cell_type": "markdown",
   "id": "aad2d010",
   "metadata": {},
   "source": [
    "## Calling the Parent’s method within the overridden method"
   ]
  },
  {
   "cell_type": "markdown",
   "id": "9559df15",
   "metadata": {},
   "source": [
    "#### Using classname"
   ]
  },
  {
   "cell_type": "code",
   "execution_count": null,
   "id": "ba9e1af4",
   "metadata": {},
   "outputs": [],
   "source": [
    "# Python program to demonstrate\n",
    "# calling the parent's class method\n",
    "# inside the overridden method\n",
    "\n",
    "\n",
    "class Parent():\n",
    "\t\n",
    "\tdef show(self):\n",
    "\t\tprint(\"Inside Parent\")\n",
    "\t\t\n",
    "class Child(Parent):\n",
    "\t\n",
    "\tdef show(self):\n",
    "\t\t\n",
    "\t\t# Calling the parent's class\n",
    "\t\t# method\n",
    "\t\tParent.show(self)\n",
    "\t\tprint(\"Inside Child\")\n",
    "\t\t\n",
    "# Driver's code\n",
    "obj = Child()\n",
    "obj.show()\n"
   ]
  },
  {
   "cell_type": "markdown",
   "id": "74495964",
   "metadata": {},
   "source": [
    "#### If the constructors are overided then you need to call them also"
   ]
  },
  {
   "cell_type": "code",
   "execution_count": 10,
   "id": "ad0b58e0",
   "metadata": {},
   "outputs": [
    {
     "name": "stdout",
     "output_type": "stream",
     "text": [
      "The name is rohan and salary is 1200\n",
      "Role is Ninja and sport he plays is Quidditch\n"
     ]
    }
   ],
   "source": [
    "class A:\n",
    "\tdef __init__(self, name, salary):\n",
    "\t\tself.name = name\n",
    "\t\tself.salary = salary\n",
    "\n",
    "\tdef display(self):\n",
    "\t\treturn f\"The name is {self.name} and salary is {self.salary}\"\n",
    "\n",
    "\n",
    "class B:\n",
    "\tdef __init__(self, role, sport):\n",
    "\t\tself.role = role\n",
    "\t\tself.sport = sport\n",
    "\n",
    "\tdef prin(self):\n",
    "\t\treturn f\"Role is {self.role} and sport he plays is {self.sport}\"\n",
    "\n",
    "\n",
    "class C(A, B):\n",
    "\tdef __init__(self, name, salary, role, sport, game):\n",
    "\t\tself.game = game\n",
    "\n",
    "\t\tA.__init__(self, name, salary)  # we need to invoke the parent class constructors to gain access\n",
    "\t\tB.__init__(self, role, sport)\n",
    "\n",
    "\n",
    "\n",
    "\n",
    "rohan = C('rohan', 1200, 'Ninja', 'Quidditch', 'pubg')\n",
    "print(rohan.display())\n",
    "print(rohan.prin())"
   ]
  },
  {
   "cell_type": "markdown",
   "id": "2e59fca9",
   "metadata": {},
   "source": [
    "#### Using Super()\n",
    "\n",
    ">Remember while using super() don't pass self as argument"
   ]
  },
  {
   "cell_type": "code",
   "execution_count": 1,
   "id": "7e8c2d88",
   "metadata": {},
   "outputs": [
    {
     "name": "stdout",
     "output_type": "stream",
     "text": [
      "Inside Parent\n",
      "Inside Child\n"
     ]
    }
   ],
   "source": [
    "# Python program to demonstrate\n",
    "# calling the parent's class method\n",
    "# inside the overridden method using\n",
    "# super()\n",
    "\n",
    "\n",
    "class Parent():\n",
    "\t\n",
    "\tdef show(self):\n",
    "\t\tprint(\"Inside Parent\")\n",
    "\t\t\n",
    "class Child(Parent):\n",
    "\t\n",
    "\tdef show(self):\n",
    "\t\t\n",
    "\t\t# Calling the parent's class\n",
    "\t\t# method\n",
    "\t\tsuper().show()\n",
    "\t\tprint(\"Inside Child\")\n",
    "\t\t\n",
    "# Driver's code\n",
    "obj = Child()\n",
    "obj.show()\n"
   ]
  },
  {
   "cell_type": "code",
   "execution_count": null,
   "id": "8a28ae0b",
   "metadata": {},
   "outputs": [],
   "source": [
    "class A:\n",
    "\tdef __init__(self, name, salary):\n",
    "\t\tself.name = name\n",
    "\t\tself.salary = salary\n",
    "\n",
    "\tdef display(self):\n",
    "\t\treturn f\"The name is {self.name} and salary is {self.salary}\"\n",
    "class B(A):\n",
    "\tdef __init__(self, role, sport):\n",
    "\t\tself.role = role\n",
    "\t\tself.sport = sport\n",
    "\t\tsuper().__init__(name='Saske',salary=123)\n",
    "\n",
    "\tdef prin(self):\n",
    "\t\treturn f\"Role is {self.role} and sport he plays is {self.sport}\"\n",
    "class C(B):\n",
    "\tdef __init__(self, game):\n",
    "\t\tself.game = game\n",
    "\n",
    "\t\tsuper().__init__( role='Ninja',sport='Quidditch')\n",
    "\n",
    "b=B('Ninja', 'Quidditch')\n",
    "print(b.display())\n",
    "\n",
    "rohan = C('pubg')\n",
    "print(rohan.prin())\n",
    "print(rohan.display())"
   ]
  },
  {
   "cell_type": "markdown",
   "id": "94ebcddf",
   "metadata": {},
   "source": [
    "## Diamond shape inheritance problem\n",
    "\n",
    ">This is just a confusion appears as inheriting classes started increasing\n",
    "\n",
    ">To avoid this confusion single or multilevel inheritance is recommended"
   ]
  },
  {
   "cell_type": "code",
   "execution_count": 5,
   "id": "0a012e6f",
   "metadata": {},
   "outputs": [
    {
     "name": "stdout",
     "output_type": "stream",
     "text": [
      "This is a method from class B\n"
     ]
    }
   ],
   "source": [
    "class A:\n",
    "\tdef met(self):\n",
    "\t\tprint('This is a method from class A')\n",
    "\n",
    "class B(A):\n",
    "\tdef met(self):\n",
    "\t\tprint('This is a method from class B')\n",
    "class C(A):\n",
    "\tdef met(self):\n",
    "\t    print(\"This is a method from class C\")\n",
    "class D(B,C):\n",
    "\tpass\n",
    "\n",
    "a=A()\n",
    "b=B()\n",
    "c=C()\n",
    "d=D()\n",
    "d.met()"
   ]
  },
  {
   "cell_type": "markdown",
   "id": "1fc7c922",
   "metadata": {},
   "source": [
    "## Polymorphism\n",
    "\n",
    ">Ability to take more than one form\n",
    "\n",
    ">'Gangadhar hi shktiman hai'\n",
    "\n",
    ">For classes producing different types of outputs"
   ]
  },
  {
   "cell_type": "code",
   "execution_count": 7,
   "id": "38ef30ac",
   "metadata": {},
   "outputs": [
    {
     "name": "stdout",
     "output_type": "stream",
     "text": [
      "30\n",
      "11\n"
     ]
    }
   ],
   "source": [
    "class A:\n",
    "    print(5*6)\n",
    "class B(A):\n",
    "    print(5+6)\n",
    "    \n",
    "c=B()"
   ]
  },
  {
   "cell_type": "code",
   "execution_count": null,
   "id": "b9cc2fdb",
   "metadata": {},
   "outputs": [],
   "source": []
  }
 ],
 "metadata": {
  "kernelspec": {
   "display_name": "Python 3",
   "language": "python",
   "name": "python3"
  },
  "language_info": {
   "codemirror_mode": {
    "name": "ipython",
    "version": 3
   },
   "file_extension": ".py",
   "mimetype": "text/x-python",
   "name": "python",
   "nbconvert_exporter": "python",
   "pygments_lexer": "ipython3",
   "version": "3.9.5"
  }
 },
 "nbformat": 4,
 "nbformat_minor": 5
}
