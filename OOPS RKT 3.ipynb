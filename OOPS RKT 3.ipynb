{
 "cells": [
  {
   "cell_type": "markdown",
   "id": "5b0b1219",
   "metadata": {},
   "source": [
    "## Table of Contents\n",
    "\n",
    "#### 1.Inheritance \n",
    "\n",
    "> definition and benefits\n",
    "\n",
    ">examples\n",
    "\n",
    "#### 2. Different forms of inheritance\n",
    "##### 1. Single inheritance\n",
    "##### 2. Multiple inheritance\n",
    "##### 3. Multilevel inheritance"
   ]
  },
  {
   "cell_type": "markdown",
   "id": "99f3db33",
   "metadata": {},
   "source": [
    "##### Inheritance is the capability of one class to derive or inherit the properties from another class. \n",
    "\n",
    "###### The benefits of inheritance are: \n",
    "\n",
    ">It represents real-world relationships well.\n",
    "\n",
    ">It provides reusability of a code. We don’t have to write the same code again and again. Also, it allows us to add more \n",
    "\n",
    ">features to a class without modifying it.\n",
    "\n",
    ">It is transitive in nature, which means that if class B inherits from another class A, then all the subclasses of B would automatically inherit from class A."
   ]
  },
  {
   "cell_type": "markdown",
   "id": "15ef1bc6",
   "metadata": {},
   "source": [
    "##### Class B inheriting  Class A's constructor"
   ]
  },
  {
   "cell_type": "code",
   "execution_count": 14,
   "id": "caada3ff",
   "metadata": {},
   "outputs": [
    {
     "name": "stdout",
     "output_type": "stream",
     "text": [
      "rohan\n"
     ]
    }
   ],
   "source": [
    "class A:\n",
    "    def __init__(self,name,salary):\n",
    "        self.name=name\n",
    "        self.salary=12500\n",
    "    def pr(self):\n",
    "        print(self.name)\n",
    "class B(A):\n",
    "       def prin(self):\n",
    "            return self.name\n",
    "        \n",
    "rohan=B('rohan',1222)\n",
    "rohan.pr()\n",
    "        "
   ]
  },
  {
   "cell_type": "markdown",
   "id": "8783858b",
   "metadata": {},
   "source": [
    "#### Class B inheriting class A's staticmethod"
   ]
  },
  {
   "cell_type": "code",
   "execution_count": 17,
   "id": "d520a84a",
   "metadata": {},
   "outputs": [
    {
     "name": "stdout",
     "output_type": "stream",
     "text": [
      "3\n"
     ]
    }
   ],
   "source": [
    "class A:\n",
    "    @staticmethod\n",
    "    def display(num1,num2):\n",
    "        print(num1+num2)\n",
    "\n",
    "class B(A):\n",
    "    def __init__(self,name,salary,id,position):\n",
    "        self.id=id\n",
    "        self.position=position\n",
    "\n",
    "        \n",
    "c=B('saske',12500,123,'tester')\n",
    "c.display(1,2)"
   ]
  },
  {
   "cell_type": "markdown",
   "id": "67de8d06",
   "metadata": {},
   "source": [
    "#### Class B inheriting class A's function"
   ]
  },
  {
   "cell_type": "code",
   "execution_count": 8,
   "id": "ad3800bf",
   "metadata": {},
   "outputs": [
    {
     "name": "stdout",
     "output_type": "stream",
     "text": [
      "Amanda False\n",
      "Shuri True\n"
     ]
    }
   ],
   "source": [
    "# A Python program to demonstrate inheritance\n",
    "# (Generally, object is made ancestor of all classes)\n",
    "\n",
    "class Person(object):\n",
    "\t\n",
    "\t# Constructor\n",
    "\tdef __init__(self, name):\n",
    "\t\tself.name = name\n",
    "\n",
    "\t# To get name\n",
    "\tdef getName(self):\n",
    "\t\treturn self.name\n",
    "\n",
    "\t# To check if this person is an employee\n",
    "\tdef isEmployee(self):\n",
    "\t\treturn False\n",
    "\n",
    "\n",
    "# Inherited or Subclass (Note Person in bracket)\n",
    "class Employee(Person):\n",
    "\n",
    "\t# Here we return true\n",
    "\tdef isEmployee(self):\n",
    "\t\treturn True\n",
    "\n",
    "# Driver code\n",
    "emp = Person(\"Amanda\") # An Object of Person\n",
    "print(emp.getName(), emp.isEmployee())\n",
    "\n",
    "emp = Employee(\"Shuri\") # An Object of Employee\n",
    "print(emp.getName(), emp.isEmployee())\n",
    "\n"
   ]
  },
  {
   "cell_type": "markdown",
   "id": "75be1581",
   "metadata": {},
   "source": [
    "##### Demonstration of how parent class calling works"
   ]
  },
  {
   "cell_type": "code",
   "execution_count": 16,
   "id": "c2aa9a9e",
   "metadata": {},
   "outputs": [
    {
     "name": "stdout",
     "output_type": "stream",
     "text": [
      "Rahul\n",
      "886012\n"
     ]
    }
   ],
   "source": [
    "# Python code to demonstrate how parent constructors\n",
    "# are called.\n",
    "\n",
    "# parent class\n",
    "class Person( object ):\t\n",
    "\n",
    "\t\t# __init__ is known as the constructor\t\t\n",
    "\t\tdef __init__(self, name, idnumber):\n",
    "\t\t\t\tself.name = name\n",
    "\t\t\t\tself.idnumber = idnumber\n",
    "\t\tdef display(self):\n",
    "\t\t\t\tprint(self.name)\n",
    "\t\t\t\tprint(self.idnumber)\n",
    "\n",
    "# child class\n",
    "class Employee( Person ):\t\t\n",
    "\t\tdef __init__(self, name, idnumber, salary, post):\n",
    "\t\t\t\tself.salary = salary\n",
    "\t\t\t\tself.post = post\n",
    "\n",
    "\t\t\t\t# invoking the __init__ of the parent class\n",
    "\t\t\t\tPerson.__init__(self, name, idnumber)\n",
    "\n",
    "\t\t\t\t\n",
    "# creation of an object variable or an instance\n",
    "a = Employee('Rahul', 886012, 200000, \"Intern\")\t\n",
    "\n",
    "# calling a function of the class Person using its instance\n",
    "a.display()\n"
   ]
  },
  {
   "cell_type": "markdown",
   "id": "0ed7140f",
   "metadata": {},
   "source": [
    "### 1. Single Inheritance"
   ]
  },
  {
   "cell_type": "markdown",
   "id": "b9aa683d",
   "metadata": {},
   "source": [
    ">  When a child class inherits from only one parent class, it is called single inheritance\n",
    "     We saw an example above."
   ]
  },
  {
   "cell_type": "code",
   "execution_count": null,
   "id": "8be7f851",
   "metadata": {},
   "outputs": [],
   "source": [
    "class A:\n",
    "    @staticmethod\n",
    "    def display(num1,num2):\n",
    "        print(num1+num2)\n",
    "\n",
    "class B(A):\n",
    "    def __init__(self,name,salary,id,position):\n",
    "        self.id=id\n",
    "        self.position=position\n",
    "\n",
    "        \n",
    "c=B('saske',12500,123,'tester')\n",
    "c.display(1,2)"
   ]
  },
  {
   "cell_type": "markdown",
   "id": "1b47ae00",
   "metadata": {},
   "source": [
    "### 2. Multiple Inheritance"
   ]
  },
  {
   "cell_type": "markdown",
   "id": "0fb1eeda",
   "metadata": {},
   "source": [
    "> When a child class inherits from multiple parent classes, it is called multiple inheritance. \n",
    "\n",
    ">It will inherit in chronological order pass\n",
    "\n",
    ">Unlike Java and like C++, Python supports multiple inheritance.\n",
    "We specify all parent classes as a comma-separated list in the bracket. "
   ]
  },
  {
   "cell_type": "markdown",
   "id": "5ce4a528",
   "metadata": {},
   "source": [
    "##### Remember if both inherited classes have constructors the class who will inherit them will consider only constructor from first class\n",
    "##### If inheriting function has it's own constructor it will ignore parent's class instructor untill you invoke them\n",
    "\n",
    "\n",
    "\n",
    "\n"
   ]
  },
  {
   "cell_type": "markdown",
   "id": "d7326dbd",
   "metadata": {},
   "source": [
    "#### In below example display() will work but prin() will not work as it is only considering A's constructor"
   ]
  },
  {
   "cell_type": "markdown",
   "id": "ed3f6af8",
   "metadata": {},
   "source": [
    "\n",
    "\n",
    "#### In multiple inheritance it takes classses in order as they have passed"
   ]
  },
  {
   "cell_type": "code",
   "execution_count": null,
   "id": "f47f9ad3",
   "metadata": {},
   "outputs": [],
   "source": [
    "class A:\n",
    "\tno_of_games = 6\n",
    "class B:\n",
    "\tno_of_games = 7\n",
    "class C(B,A):\n",
    "\tdef display(self):\n",
    "\t\tprint(f\"I have played {self.no_of_games} games\")\n",
    "rohan = C()\n",
    "rohan.display()"
   ]
  },
  {
   "cell_type": "code",
   "execution_count": 11,
   "id": "27c9786c",
   "metadata": {},
   "outputs": [],
   "source": [
    "\n",
    "\n",
    "class A:\n",
    "\tdef __init__(self,name,salary):\n",
    "\t\tself.name=name\n",
    "\t\tself.salary=salary\n",
    "\n",
    "\tdef display(self):\n",
    "\t\treturn f\"The name is {self.name} and salary is {self.salary}\"\n",
    "\n",
    "class B:\n",
    "\tdef __init__(self,role,sport):\n",
    "\t\tself.role=role\n",
    "\t\tself.sport=sport\n",
    "\n",
    "\tdef prin(self):\n",
    "\t\treturn f\"Role is {self.role} and sport he plays is {self.sport}\"\n",
    "\n",
    "class C(A,B):\n",
    "\tpass\n",
    "\n",
    "rohan=C('rohan',1200)\n",
    "print(rohan.display())\n",
    "print(rohan.prin())\n",
    "\n",
    "\n",
    "\n",
    "\n"
   ]
  },
  {
   "cell_type": "code",
   "execution_count": 12,
   "id": "12cc276b",
   "metadata": {},
   "outputs": [],
   "source": [
    "# Here prin() will work but display() not\n",
    "class A:\n",
    "\tdef __init__(self,name,salary):\n",
    "\t\tself.name=name\n",
    "\t\tself.salary=salary\n",
    "\n",
    "\tdef display(self):\n",
    "\t\treturn f\"The name is {self.name} and salary is {self.salary}\"\n",
    "\n",
    "class B:\n",
    "\tdef __init__(self,role,sport):\n",
    "\t\tself.role=role\n",
    "\t\tself.sport=sport\n",
    "\n",
    "\tdef prin(self):\n",
    "\t\treturn f\"Role is {self.role} and sport he plays is {self.sport}\"\n",
    "\n",
    "class C(B,A):\n",
    "\tpass\n",
    "\n",
    "rohan=C('rohan',1200)\n",
    "print(rohan.prin())\n",
    "print(rohan.display())\n",
    "\n",
    "\n",
    "\n",
    "\n"
   ]
  },
  {
   "cell_type": "markdown",
   "id": "e69b6d70",
   "metadata": {},
   "source": [
    "#### There is one way to overcome this problem"
   ]
  },
  {
   "cell_type": "code",
   "execution_count": null,
   "id": "18be3c21",
   "metadata": {},
   "outputs": [],
   "source": [
    "class A:\n",
    "\tdef __init__(self,name,salary):\n",
    "\t\tself.name=name\n",
    "\t\tself.salary=salary\n",
    "\n",
    "\tdef display(self):\n",
    "\t\treturn f\"The name is {self.name} and salary is {self.salary}\"\n",
    "\n",
    "class B:\n",
    "\tdef __init__(self,role,sport):\n",
    "\t\tself.role=role\n",
    "\t\tself.sport=sport\n",
    "\n",
    "\tdef prin(self):\n",
    "\t\treturn f\"Role is {self.role} and sport he plays is {self.sport}\"\n",
    "\n",
    "class C(A,B):\n",
    "\tdef __init__(self,name,salary,role,sport):\n",
    "\t\tA.__init__(self,name,salary) #we need to invoke the parent class constructors to gain access\n",
    "\t\tB.__init__(self,role,sport)\n",
    "\n",
    "\tpass\n",
    "\n",
    "rohan=C('rohan',1200,'Ninja','Quidditch')\n",
    "print(rohan.display())\n",
    "print(rohan.prin())\n"
   ]
  },
  {
   "cell_type": "markdown",
   "id": "b9116763",
   "metadata": {},
   "source": [
    "### 3. Multilevel Inheritance"
   ]
  },
  {
   "cell_type": "code",
   "execution_count": 10,
   "id": "03d8e9e7",
   "metadata": {},
   "outputs": [
    {
     "name": "stdout",
     "output_type": "stream",
     "text": [
      "I have played 6 games\n",
      "I have dances 7 times\n"
     ]
    }
   ],
   "source": [
    "class A:\n",
    "\tno_of_games=6\n",
    "\n",
    "class B(A):\n",
    "\tno_of_dances=7\n",
    "\tdef prin(self):\n",
    "\t\treturn f\"I have played {self.no_of_games} games\"\n",
    "\n",
    "class C(B):\n",
    "\tdef display(self):\n",
    "\t\treturn f\"I have dances {self.no_of_dances} times\"\n",
    "\n",
    "saske=B()\n",
    "print(saske.prin())\n",
    "rohan=C()\n",
    "print(rohan.display())\n",
    "\n"
   ]
  },
  {
   "cell_type": "markdown",
   "id": "e69af3f2",
   "metadata": {},
   "source": [
    "#### for class having constructors you need to call inhereted class also"
   ]
  },
  {
   "cell_type": "code",
   "execution_count": 9,
   "id": "eee38bdf",
   "metadata": {},
   "outputs": [],
   "source": [
    "class A:\n",
    "\tno_of_games = 6\n",
    "\n",
    "\n",
    "class B(A):\n",
    "\tdef __init__(self, name):\n",
    "\t\tself.name = name\n",
    "\n",
    "\tdef prin(self):\n",
    "\t\treturn f\"Name is {self.name}\"\n",
    " \n",
    "\n",
    "\n",
    "class C(B):\n",
    "\tdef __init__(self, salary):\n",
    "\t\tself.salary = salary\n",
    "\n",
    "\tdef display(self):\n",
    "\t\t\treturn f\"Name from class B is {self.name}\"\n",
    "\n",
    "\n",
    "rohan = C(123)\n",
    "# print(rohan.display())"
   ]
  },
  {
   "cell_type": "markdown",
   "id": "7a9219a8",
   "metadata": {},
   "source": [
    "### You need to invoke the class also"
   ]
  },
  {
   "cell_type": "code",
   "execution_count": 6,
   "id": "1e928587",
   "metadata": {},
   "outputs": [],
   "source": [
    "class A:\n",
    "\tno_of_games = 6\n",
    "\n",
    "\n",
    "class B(A):\n",
    "\tdef __init__(self, name):\n",
    "\t\tself.name = name\n",
    "\n",
    "\tdef prin(self):\n",
    "\t\treturn f\"Name is {self.name}\"\n",
    "\n",
    "\n",
    "class C(B):\n",
    "\tdef __init__(self, salary, name):\n",
    "\t\tself.salary = salary\n",
    "\n",
    "\t\tB.__init__(self, name)\n",
    "\n",
    "\n",
    "\tdef display(self):\n",
    "\t\treturn f\"Name from class B is {self.name}\"\n",
    "\n",
    "\n",
    "rohan = C(123, 'saske')\n",
    "print(rohan.display())\n",
    "\n"
   ]
  }
 ],
 "metadata": {
  "kernelspec": {
   "display_name": "Python 3",
   "language": "python",
   "name": "python3"
  },
  "language_info": {
   "codemirror_mode": {
    "name": "ipython",
    "version": 3
   },
   "file_extension": ".py",
   "mimetype": "text/x-python",
   "name": "python",
   "nbconvert_exporter": "python",
   "pygments_lexer": "ipython3",
   "version": "3.9.5"
  }
 },
 "nbformat": 4,
 "nbformat_minor": 5
}
